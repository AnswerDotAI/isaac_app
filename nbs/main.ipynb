{
 "cells": [
  {
   "cell_type": "markdown",
   "id": "a4f6b696",
   "metadata": {},
   "source": [
    "# Main\n",
    "\n",
    "> Entry point for the app\n"
   ]
  },
  {
   "cell_type": "code",
   "execution_count": 1,
   "id": "4249a4bd",
   "metadata": {},
   "outputs": [],
   "source": [
    "#| default_exp main"
   ]
  },
  {
   "cell_type": "code",
   "execution_count": 1,
   "id": "1a61545d",
   "metadata": {},
   "outputs": [],
   "source": [
    "#| export\n",
    "from fasthtml.common import *\n",
    "from monsterui.all import *\n",
    "from fasthtml.oauth import *\n"
   ]
  },
  {
   "cell_type": "code",
   "execution_count": 2,
   "id": "1e7299e7",
   "metadata": {},
   "outputs": [],
   "source": [
    "#| export\n",
    "try:\n",
    "    from productivity_app.social_media import ar as ar_social\n",
    "    from productivity_app.todo import ar as ar_todo\n",
    "    from productivity_app.utils import *\n",
    "except Exception as e:\n",
    "    raise e"
   ]
  },
  {
   "cell_type": "code",
   "execution_count": null,
   "id": "75c33c29",
   "metadata": {},
   "outputs": [],
   "source": [
    "#| expor"
   ]
  },
  {
   "cell_type": "code",
   "execution_count": 18,
   "id": "80d5e4e7",
   "metadata": {},
   "outputs": [],
   "source": [
    "#| export\n",
    "app, rt = fast_app(hdrs = Theme.blue.headers(), body_wrap=layout)"
   ]
  },
  {
   "cell_type": "code",
   "execution_count": 13,
   "id": "d1b1c8de",
   "metadata": {},
   "outputs": [],
   "source": [
    "#| export\n",
    "@rt\n",
    "def index(): return Grid(*[A(Card(H3(k)),href=v) for k,v in links.items()])"
   ]
  },
  {
   "cell_type": "code",
   "execution_count": 14,
   "id": "27e3ddfe",
   "metadata": {},
   "outputs": [],
   "source": [
    "#| export\n",
    "ar_social.to_app(app)\n",
    "ar_todo.to_app(app)"
   ]
  },
  {
   "cell_type": "code",
   "execution_count": 15,
   "id": "c221ca91",
   "metadata": {},
   "outputs": [],
   "source": [
    "#| export\n",
    "redir_path = '/redirect'\n",
    "skip = ('/login', redir_path, r'/.*\\.(png|jpg|ico|css|js)', )\n",
    "\n",
    "class Auth(OAuth):\n",
    "    def get_auth(self, info, ident, session, state):\n",
    "        email = info.email or ''\n",
    "        session['user_name'] = email\n",
    "        if info.email_verified and email.split('@')[-1] == 'answer.ai': return RedirectResponse('/', status_code=303)\n",
    "        \n",
    "client = GoogleAppClient(os.environ.get('GOOGLE_CLIENT_ID'), os.environ.get('GOOGLE_SECRET'))\n",
    "oauth = Auth(app, client, skip=skip, redir_path=redir_path)\n",
    "\n",
    "@rt\n",
    "def login(req):\n",
    "    return Container(Card(\n",
    "        CardTitle(\"Login\"),\n",
    "        P(\"For internal use only\", cls=TextPresets.muted_sm),\n",
    "        A('Log in', href=oauth.login_link(req), cls='uk-button'+ButtonT.primary)))\n",
    "\n",
    "@rt\n",
    "def logout(sess):\n",
    "    del sess[\"user_name\"]\n",
    "    return oauth.logout(sess)"
   ]
  },
  {
   "cell_type": "code",
   "execution_count": 16,
   "id": "2f38a125",
   "metadata": {},
   "outputs": [],
   "source": [
    "#| export\n",
    "serve()"
   ]
  },
  {
   "cell_type": "code",
   "execution_count": null,
   "id": "b3367ed9",
   "metadata": {},
   "outputs": [],
   "source": []
  }
 ],
 "metadata": {
  "kernelspec": {
   "display_name": "Python 3 (ipykernel)",
   "language": "python",
   "name": "python3"
  },
  "language_info": {
   "codemirror_mode": {
    "name": "ipython",
    "version": 3
   },
   "file_extension": ".py",
   "mimetype": "text/x-python",
   "name": "python",
   "nbconvert_exporter": "python",
   "pygments_lexer": "ipython3",
   "version": "3.12.8"
  }
 },
 "nbformat": 4,
 "nbformat_minor": 5
}
