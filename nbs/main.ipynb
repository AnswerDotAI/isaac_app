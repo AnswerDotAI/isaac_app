{
 "cells": [
  {
   "cell_type": "code",
   "execution_count": 1,
   "id": "95ad7e44",
   "metadata": {},
   "outputs": [],
   "source": [
    "def create_navbar():\n",
    "    '''\n",
    "     This method build the navigation bar in the header section\n",
    "     '''\n",
    "\n",
    "    leftContent = A(\n",
    "            Img(src=\"/images/logo/vecteezy_eco-marketing-logo-go-green-logo-environment-friendly-logo_10355748-1.jpg\", width=\"50\", height=\"50\",alt=\"Logo\"),\n",
    "            href=\"/\")\n",
    "\n",
    "    rightContent = NavBarRSide(\n",
    "        NavBarNav( Li(A(\"Home\", href='/'),cls='uk-active text-white hover:text-blue-200'),\n",
    "                    Li(A(\"About\",href='/our_story'),cls='text-white hover:text-blue-200'),\n",
    "                    Li(A(\"Services\", href='#services'),cls='text-white hover:text-blue-200'),\n",
    "                    Li(A(\"Blog\",href='/blog'),cls='text-white hover:text-blue-200'),\n",
    "                    Li(A(\"Contact\",href='#footer'),cls='text-white hover:text-blue-200')\n",
    "                   )\n",
    "    )\n",
    "    return NavBarContainer(leftContent,rightContent,cls=\"uk-navbar-container uk-flex uk-flex-between\",container_cls=\"uk-container\")"
   ]
  },
  {
   "cell_type": "code",
   "execution_count": 2,
   "id": "2ade3f1f",
   "metadata": {},
   "outputs": [
    {
     "ename": "NameError",
     "evalue": "name 'NavBarContainer' is not defined",
     "output_type": "error",
     "traceback": [
      "\u001b[0;31m---------------------------------------------------------------------------\u001b[0m",
      "\u001b[0;31mNameError\u001b[0m                                 Traceback (most recent call last)",
      "Cell \u001b[0;32mIn[2], line 1\u001b[0m\n\u001b[0;32m----> 1\u001b[0m \u001b[43mNavBarContainer\u001b[49m()\n",
      "\u001b[0;31mNameError\u001b[0m: name 'NavBarContainer' is not defined"
     ]
    }
   ],
   "source": [
    "NavBarContainer()"
   ]
  },
  {
   "cell_type": "markdown",
   "id": "277b7323",
   "metadata": {},
   "source": [
    "##### Assistant"
   ]
  },
  {
   "cell_type": "markdown",
   "id": "b88ecb9a",
   "metadata": {},
   "source": [
    "Let's calculate this using the \"birthday problem\" probability formula, since this is effectively the same scenario:"
   ]
  },
  {
   "cell_type": "code",
   "execution_count": null,
   "id": "85b71043",
   "metadata": {},
   "outputs": [],
   "source": [
    "def calc_probability(n_checks=100000000000, n_subdomains=100000):\n",
    "    # Total possible UUIDs (version 4)\n",
    "    space = 2**122  # UUID4 has 122 random bits\n",
    "    \n",
    "    # Probability of NOT finding any existing subdomain\n",
    "    prob_miss = 1.0\n",
    "    for i in range(n_checks):\n",
    "        prob_miss *= (1 - n_subdomains/(space - i))\n",
    "    \n",
    "    # Probability of finding at least one\n",
    "    prob_hit = 1 - prob_miss\n",
    "    return prob_hit\n",
    "\n",
    "p = calc_probability()\n",
    "print(f\"Probability of finding at least one subdomain: {p:.2e}\")\n",
    "# The probability is extremely small due to UUID space being 2^122"
   ]
  },
  {
   "cell_type": "markdown",
   "id": "cf093a7b",
   "metadata": {},
   "source": [
    "##### User"
   ]
  },
  {
   "cell_type": "code",
   "execution_count": 30,
   "id": "1bd13749",
   "metadata": {},
   "outputs": [
    {
     "name": "stdout",
     "output_type": "stream",
     "text": [
      "\u001b[94m[-] Enumerating subdomains now for solveit.fast.ai\u001b[0m\n",
      "\u001b[93m[-] verbosity is enabled, will show the subdomains results in realtime\u001b[0m\n"
     ]
    },
    {
     "ename": "AttributeError",
     "evalue": "'list' object has no attribute 'split'",
     "output_type": "error",
     "traceback": [
      "\u001b[0;31m---------------------------------------------------------------------------\u001b[0m",
      "\u001b[0;31mAttributeError\u001b[0m                            Traceback (most recent call last)",
      "Cell \u001b[0;32mIn[30], line 2\u001b[0m\n\u001b[1;32m      1\u001b[0m \u001b[38;5;66;03m# Test run with just one engine (Virustotal) and 5 threads\u001b[39;00m\n\u001b[0;32m----> 2\u001b[0m subdomains \u001b[38;5;241m=\u001b[39m \u001b[43msublist3r\u001b[49m\u001b[38;5;241;43m.\u001b[39;49m\u001b[43mmain\u001b[49m\u001b[43m(\u001b[49m\n\u001b[1;32m      3\u001b[0m \u001b[43m    \u001b[49m\u001b[38;5;124;43m\"\u001b[39;49m\u001b[38;5;124;43msolveit.fast.ai\u001b[39;49m\u001b[38;5;124;43m\"\u001b[39;49m\u001b[43m,\u001b[49m\u001b[43m \u001b[49m\n\u001b[1;32m      4\u001b[0m \u001b[43m    \u001b[49m\u001b[38;5;241;43m5\u001b[39;49m\u001b[43m,\u001b[49m\u001b[43m  \u001b[49m\u001b[38;5;66;43;03m# reduced threads\u001b[39;49;00m\n\u001b[1;32m      5\u001b[0m \u001b[43m    \u001b[49m\u001b[43msavefile\u001b[49m\u001b[38;5;241;43m=\u001b[39;49m\u001b[38;5;28;43;01mNone\u001b[39;49;00m\u001b[43m,\u001b[49m\u001b[43m \u001b[49m\n\u001b[1;32m      6\u001b[0m \u001b[43m    \u001b[49m\u001b[43mports\u001b[49m\u001b[38;5;241;43m=\u001b[39;49m\u001b[38;5;28;43;01mNone\u001b[39;49;00m\u001b[43m,\u001b[49m\u001b[43m \u001b[49m\n\u001b[1;32m      7\u001b[0m \u001b[43m    \u001b[49m\u001b[43msilent\u001b[49m\u001b[38;5;241;43m=\u001b[39;49m\u001b[38;5;28;43;01mFalse\u001b[39;49;00m\u001b[43m,\u001b[49m\u001b[43m \u001b[49m\n\u001b[1;32m      8\u001b[0m \u001b[43m    \u001b[49m\u001b[43mverbose\u001b[49m\u001b[38;5;241;43m=\u001b[39;49m\u001b[38;5;28;43;01mTrue\u001b[39;49;00m\u001b[43m,\u001b[49m\u001b[43m  \u001b[49m\u001b[38;5;66;43;03m# see what's happening\u001b[39;49;00m\n\u001b[1;32m      9\u001b[0m \u001b[43m    \u001b[49m\u001b[43menable_bruteforce\u001b[49m\u001b[38;5;241;43m=\u001b[39;49m\u001b[38;5;28;43;01mFalse\u001b[39;49;00m\u001b[43m,\u001b[49m\n\u001b[1;32m     10\u001b[0m \u001b[43m    \u001b[49m\u001b[43mengines\u001b[49m\u001b[38;5;241;43m=\u001b[39;49m\u001b[43m[\u001b[49m\u001b[38;5;124;43m\"\u001b[39;49m\u001b[38;5;124;43mVirustotal\u001b[39;49m\u001b[38;5;124;43m\"\u001b[39;49m\u001b[43m]\u001b[49m\u001b[43m  \u001b[49m\u001b[38;5;66;43;03m# just one engine\u001b[39;49;00m\n\u001b[1;32m     11\u001b[0m \u001b[43m)\u001b[49m\n",
      "File \u001b[0;32m~/.venv/lib/python3.12/site-packages/sublist3r.py:937\u001b[0m, in \u001b[0;36mmain\u001b[0;34m(domain, threads, savefile, ports, silent, verbose, enable_bruteforce, engines)\u001b[0m\n\u001b[1;32m    931\u001b[0m     chosenEnums \u001b[38;5;241m=\u001b[39m [\n\u001b[1;32m    932\u001b[0m         BaiduEnum, YahooEnum, GoogleEnum, BingEnum, AskEnum,\n\u001b[1;32m    933\u001b[0m         NetcraftEnum, DNSdumpster, Virustotal, ThreatCrowd,\n\u001b[1;32m    934\u001b[0m         CrtSearch, PassiveDNS\n\u001b[1;32m    935\u001b[0m     ]\n\u001b[1;32m    936\u001b[0m \u001b[38;5;28;01melse\u001b[39;00m:\n\u001b[0;32m--> 937\u001b[0m     engines \u001b[38;5;241m=\u001b[39m \u001b[43mengines\u001b[49m\u001b[38;5;241;43m.\u001b[39;49m\u001b[43msplit\u001b[49m(\u001b[38;5;124m'\u001b[39m\u001b[38;5;124m,\u001b[39m\u001b[38;5;124m'\u001b[39m)\n\u001b[1;32m    938\u001b[0m     \u001b[38;5;28;01mfor\u001b[39;00m engine \u001b[38;5;129;01min\u001b[39;00m engines:\n\u001b[1;32m    939\u001b[0m         \u001b[38;5;28;01mif\u001b[39;00m engine\u001b[38;5;241m.\u001b[39mlower() \u001b[38;5;129;01min\u001b[39;00m supported_engines:\n",
      "\u001b[0;31mAttributeError\u001b[0m: 'list' object has no attribute 'split'"
     ]
    }
   ],
   "source": [
    "# Test run with just one engine (Virustotal) and 5 threads\n",
    "subdomains = sublist3r.main(\n",
    "    \"solveit.fast.ai\", \n",
    "    5,  # reduced threads\n",
    "    savefile=None, \n",
    "    ports=None, \n",
    "    silent=False, \n",
    "    verbose=True,  # see what's happening\n",
    "    enable_bruteforce=False,\n",
    "    engines=[\"Virustotal\"]  # just one engine\n",
    ")"
   ]
  },
  {
   "cell_type": "markdown",
   "id": "b108c030",
   "metadata": {},
   "source": [
    "If this works well, we can gradually add more engines: Baidu, Yahoo, Google, Bing, Ask, Netcraft, DNSDumpster, etc."
   ]
  },
  {
   "cell_type": "markdown",
   "id": "630766f3",
   "metadata": {},
   "source": [
    "##### User"
   ]
  },
  {
   "cell_type": "markdown",
   "id": "a4f6b696",
   "metadata": {},
   "source": [
    "# Main\n",
    "\n",
    "> Entry point for the app\n"
   ]
  },
  {
   "cell_type": "code",
   "execution_count": 1,
   "id": "4249a4bd",
   "metadata": {},
   "outputs": [],
   "source": [
    "#| default_exp main"
   ]
  },
  {
   "cell_type": "code",
   "execution_count": 1,
   "id": "1a61545d",
   "metadata": {},
   "outputs": [],
   "source": [
    "#| export\n",
    "from fasthtml.common import *\n",
    "from monsterui.all import *\n",
    "from fasthtml.oauth import *\n"
   ]
  },
  {
   "cell_type": "code",
   "execution_count": 2,
   "id": "1e7299e7",
   "metadata": {},
   "outputs": [],
   "source": [
    "#| export\n",
    "try:\n",
    "    from productivity_app.social_media import ar as ar_social\n",
    "    from productivity_app.todo import ar as ar_todo\n",
    "    from productivity_app.utils import *\n",
    "except Exception as e:\n",
    "    raise e"
   ]
  },
  {
   "cell_type": "code",
   "execution_count": null,
   "id": "75c33c29",
   "metadata": {},
   "outputs": [],
   "source": [
    "#| expor"
   ]
  },
  {
   "cell_type": "code",
   "execution_count": 18,
   "id": "80d5e4e7",
   "metadata": {},
   "outputs": [],
   "source": [
    "#| export\n",
    "app, rt = fast_app(hdrs = Theme.blue.headers(), body_wrap=layout)"
   ]
  },
  {
   "cell_type": "code",
   "execution_count": 13,
   "id": "d1b1c8de",
   "metadata": {},
   "outputs": [],
   "source": [
    "#| export\n",
    "@rt\n",
    "def index(): return Grid(*[A(Card(H3(k)),href=v) for k,v in links.items()])"
   ]
  },
  {
   "cell_type": "code",
   "execution_count": 14,
   "id": "27e3ddfe",
   "metadata": {},
   "outputs": [],
   "source": [
    "#| export\n",
    "ar_social.to_app(app)\n",
    "ar_todo.to_app(app)"
   ]
  },
  {
   "cell_type": "code",
   "execution_count": 15,
   "id": "c221ca91",
   "metadata": {},
   "outputs": [],
   "source": [
    "#| export\n",
    "redir_path = '/redirect'\n",
    "skip = ('/login', redir_path, r'/.*\\.(png|jpg|ico|css|js)', )\n",
    "\n",
    "class Auth(OAuth):\n",
    "    def get_auth(self, info, ident, session, state):\n",
    "        email = info.email or ''\n",
    "        session['user_name'] = email\n",
    "        if info.email_verified and email.split('@')[-1] == 'answer.ai': return RedirectResponse('/', status_code=303)\n",
    "        \n",
    "client = GoogleAppClient(os.environ.get('GOOGLE_CLIENT_ID'), os.environ.get('GOOGLE_SECRET'))\n",
    "oauth = Auth(app, client, skip=skip, redir_path=redir_path)\n",
    "\n",
    "@rt\n",
    "def login(req):\n",
    "    return Container(Card(\n",
    "        CardTitle(\"Login\"),\n",
    "        P(\"For internal use only\", cls=TextPresets.muted_sm),\n",
    "        A('Log in', href=oauth.login_link(req), cls='uk-button'+ButtonT.primary)))\n",
    "\n",
    "@rt\n",
    "def logout(sess):\n",
    "    del sess[\"user_name\"]\n",
    "    return oauth.logout(sess)"
   ]
  },
  {
   "cell_type": "code",
   "execution_count": 16,
   "id": "2f38a125",
   "metadata": {},
   "outputs": [],
   "source": [
    "#| export\n",
    "serve()"
   ]
  },
  {
   "cell_type": "code",
   "execution_count": null,
   "id": "b3367ed9",
   "metadata": {},
   "outputs": [],
   "source": []
  }
 ],
 "metadata": {
  "kernelspec": {
   "display_name": "Python 3 (ipykernel)",
   "language": "python",
   "name": "python3"
  },
  "language_info": {
   "codemirror_mode": {
    "name": "ipython",
    "version": 3
   },
   "file_extension": ".py",
   "mimetype": "text/x-python",
   "name": "python",
   "nbconvert_exporter": "python",
   "pygments_lexer": "ipython3",
   "version": "3.12.8"
  }
 },
 "nbformat": 4,
 "nbformat_minor": 5
}
