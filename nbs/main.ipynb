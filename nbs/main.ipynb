{
 "cells": [
  {
   "cell_type": "markdown",
   "id": "a4f6b696",
   "metadata": {},
   "source": [
    "# Main\n",
    "\n",
    "> Entry point for the app\n"
   ]
  },
  {
   "cell_type": "code",
   "execution_count": null,
   "id": "4249a4bd",
   "metadata": {},
   "outputs": [],
   "source": [
    "#| default_exp main"
   ]
  },
  {
   "cell_type": "code",
   "execution_count": null,
   "id": "1a61545d",
   "metadata": {},
   "outputs": [],
   "source": [
    "#| export\n",
    "from fasthtml.common import *\n",
    "from monsterui.all import *\n",
    "from fasthtml.oauth import *\n",
    "from functools import partial"
   ]
  },
  {
   "cell_type": "code",
   "execution_count": null,
   "id": "1e7299e7",
   "metadata": {},
   "outputs": [],
   "source": [
    "#| export\n",
    "try:\n",
    "    from productivity_app.social_media import ar as ar_social\n",
    "    from productivity_app.todo import ar as ar_todo\n",
    "    from productivity_app.utils import *\n",
    "except Exception as e:\n",
    "    raise e"
   ]
  },
  {
   "cell_type": "code",
   "execution_count": null,
   "id": "80d5e4e7",
   "metadata": {},
   "outputs": [],
   "source": [
    "#| export\n",
    "app, rt = fast_app(hdrs = Theme.blue.headers(), body_wrap=layout, live=True)"
   ]
  },
  {
   "cell_type": "code",
   "execution_count": null,
   "id": "d1b1c8de",
   "metadata": {},
   "outputs": [],
   "source": [
    "#| export\n",
    "@rt\n",
    "def index(): \n",
    "    return DivCentered(\n",
    "        PicSumImg(cls='rounded-full w-96 h-96 object-cover mb-6'),\n",
    "        H1(\"Isaac Flath\"))"
   ]
  },
  {
   "cell_type": "code",
   "execution_count": null,
   "id": "7ae86bbd",
   "metadata": {},
   "outputs": [],
   "source": [
    "#| export\n",
    "@rt\n",
    "def index():\n",
    "    _href = partial(A, cls=AT.primary, target='_blank')\n",
    "    def _project_slider_card(title, subtitle, href=None):\n",
    "        return Card(\n",
    "                A(H3(title), href=href, cls=AT.primary if href else '', target='_blank', disabled=href is None), \n",
    "                Subtitle(subtitle), \n",
    "                cls='w-96')\n",
    "    def _section(*c):\n",
    "        return Section(Article(*c, cls='prose max-w-5xl mx-auto space-y-5 pt-16'), cls=('uk-padding-remove-vertical',))\n",
    "    \n",
    "    return Div(\n",
    "        # Header section with profile\n",
    "        Section(\n",
    "            DivCentered(\n",
    "                Img(src='street.jpg', cls='h-96 w-96 rounded-full object-cover shadow-lg'),\n",
    "                H1(\"Isaac Flath\", cls=TextT.center),\n",
    "                P(\"AI & Tech Generalist\", cls=(TextT.center, TextT.muted)),\n",
    "                cls='space-y-4 mt-12'),\n",
    "            cls='uk-padding-remove-vertical'),\n",
    "        _section(\n",
    "                P(\"Hi! I'm \", Strong(\"Isaac Flath\"), \", a Tech Generalist passionate about creating beautiful, functional, useful things.  \",\n",
    "                  \"While this often means AI it often means Web App Development, Dev Ops, System Administration, and other things.  \", \n",
    "                  Em(\"AI is only a component (sometimes a relatively small one) of a successful AI application.\"))),\n",
    "        _section(\n",
    "                DivCentered(H3(U(\"Current Projects\"))),\n",
    "                Slider(\n",
    "                    _project_slider_card(\"MonsterUI\", \n",
    "                                         \"A UI framework for FastHTML that makes styling painless and fast - all within python!\",\n",
    "                                         'https://monsterui.answer.ai/'),\n",
    "                    _project_slider_card(\"FastHTML Gallery\", \n",
    "                                         \"A gallery of examples to help people learn and use FastHTML for web development\",\n",
    "                                         'https://gallery.fastht.ml/'),\n",
    "                    _project_slider_card(\"Solveit\", \n",
    "                                         \"A course that teaches people to use AI in a productive way for learning and building.\",\n",
    "                                         'https://solveit.fast.ai/'),\n",
    "                    _project_slider_card(\"Virgil\", \n",
    "                                         \"A tech powered law firm.\",\n",
    "                                         'https://tryvirgil.com/'),\n",
    "                    _project_slider_card(\"Plash\", \n",
    "                                         \"No information here!  How mysterious...\"),\n",
    "                    uk_slider='finite: true'\n",
    "                )),\n",
    "    _section(\n",
    "        DivCentered(H3(U(\"My Hobbies\"))),\n",
    "        P(\"My primary hobby is dance. I used to teach ballroom dance full time, which is where I met my partner.\",\n",
    "          \"  My partner runs her own \", _href('dance instruction business', href='https://artofmovementdc.com/'), \" here in D.C.\"),\n",
    "        P(\"We have a couple videos up of us dancing causual \",\n",
    "              _href(\"social style\", href=\"https://www.youtube.com/watch?v=nUdMfll0YJo\", ), \" performances and \",\n",
    "              _href(\"routine style\", href=\"https://www.youtube.com/watch?v=Y7R82kgeUbY\", cls=AT.primary), \" performances.\")),\n",
    "    _section(\n",
    "        DivCentered(H3(U(\"Career Journey\"))),\n",
    "        DivLAligned(H4(\"My Start:\"),P(\"Assembly line worker ➢ assembly line management ➢ assembly line efficiency optimization\")),\n",
    "        DivLAligned(H4(\"Moving Up :\"),P(\"Business process engineering ➢ product management\")),\n",
    "        DivLAligned(H4(\"Starting Technical Journey:\"),P(\"Data analyst ➢ dynamics CRM developer\")),\n",
    "        DivLAligned(H4(\"Trying New Things:\"),P(\"Accounting ➢ call center ➢ full-time ballroom dance teacher\")),\n",
    "        DivLAligned(H4(\"Finding my home ❤️:\"),P(\"Product owner ➢ machine learning researcher ➢ data science ➢ AI and tech generalist\"))),\n",
    "\n",
    "        \n",
    "    )"
   ]
  },
  {
   "cell_type": "code",
   "execution_count": null,
   "id": "0f6038cb",
   "metadata": {},
   "outputs": [],
   "source": [
    "#| export\n",
    "@rt\n",
    "def theme():\n",
    "    from fasthtml.components import Uk_theme_switcher\n",
    "    return Uk_theme_switcher()"
   ]
  },
  {
   "cell_type": "code",
   "execution_count": null,
   "id": "27e3ddfe",
   "metadata": {},
   "outputs": [],
   "source": [
    "#| export\n",
    "ar_social.to_app(app)\n",
    "ar_todo.to_app(app)"
   ]
  },
  {
   "cell_type": "code",
   "execution_count": null,
   "id": "c221ca91",
   "metadata": {},
   "outputs": [],
   "source": [
    "#| export\n",
    "redir_path = '/redirect'\n",
    "skip = ('/login', '/', redir_path, r'/.*\\.(png|jpg|ico|css|js)', )\n",
    "\n",
    "class Auth(OAuth):\n",
    "    def get_auth(self, info, ident, session, state):\n",
    "        email = info.email or ''\n",
    "        session['user_name'] = email\n",
    "        if info.email_verified and email.split('@')[-1] == 'answer.ai': return RedirectResponse('/', status_code=303)\n",
    "        \n",
    "client = GoogleAppClient(os.environ.get('GOOGLE_CLIENT_ID'), os.environ.get('GOOGLE_SECRET'))\n",
    "oauth = Auth(app, client, skip=skip, redir_path=redir_path)\n",
    "\n",
    "@rt\n",
    "def login(req):\n",
    "    return Container(Card(\n",
    "        H3(\"Login\"),\n",
    "        Subtitle(\"This page is just for Isaac's use!\"),\n",
    "        P(\"If you're interested in what's here, reach out and I'm happy to give you a demo.  It's an app I built that help me with my own productivity.\"),\n",
    "        A('Log in', href=oauth.login_link(req), cls='uk-button'+ButtonT.primary)))\n",
    "\n",
    "@rt\n",
    "def logout(sess):\n",
    "    del sess[\"user_name\"]\n",
    "    return oauth.logout(sess)"
   ]
  },
  {
   "cell_type": "code",
   "execution_count": null,
   "id": "2f38a125",
   "metadata": {},
   "outputs": [],
   "source": [
    "#| export\n",
    "serve(port=5005)"
   ]
  }
 ],
 "metadata": {
  "kernelspec": {
   "display_name": "python3",
   "language": "python",
   "name": "python3"
  }
 },
 "nbformat": 4,
 "nbformat_minor": 5
}
