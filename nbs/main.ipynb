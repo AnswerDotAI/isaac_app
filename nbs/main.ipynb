{
 "cells": [
  {
   "cell_type": "markdown",
   "id": "a4f6b696",
   "metadata": {},
   "source": [
    "# Main\n",
    "\n",
    "> Entry point for the app\n"
   ]
  },
  {
   "cell_type": "code",
   "execution_count": null,
   "id": "4249a4bd",
   "metadata": {},
   "outputs": [],
   "source": [
    "#| default_exp main"
   ]
  },
  {
   "cell_type": "code",
   "execution_count": null,
   "id": "1a61545d",
   "metadata": {},
   "outputs": [],
   "source": [
    "#| export\n",
    "from fasthtml.common import *\n",
    "from monsterui.all import *\n",
    "from fasthtml.oauth import *\n"
   ]
  },
  {
   "cell_type": "code",
   "execution_count": null,
   "id": "1e7299e7",
   "metadata": {},
   "outputs": [],
   "source": [
    "#| export\n",
    "try:\n",
    "    from productivity_app.social_media import ar as ar_social\n",
    "    from productivity_app.todo import ar as ar_todo\n",
    "    from productivity_app.utils import *\n",
    "except Exception as e:\n",
    "    raise e"
   ]
  },
  {
   "cell_type": "code",
   "execution_count": null,
   "id": "75c33c29",
   "metadata": {},
   "outputs": [],
   "source": [
    "#| expor"
   ]
  },
  {
   "cell_type": "code",
   "execution_count": null,
   "id": "80d5e4e7",
   "metadata": {},
   "outputs": [],
   "source": [
    "#| export\n",
    "app, rt = fast_app(hdrs = Theme.blue.headers(), body_wrap=layout)"
   ]
  },
  {
   "cell_type": "code",
   "execution_count": null,
   "id": "d1b1c8de",
   "metadata": {},
   "outputs": [],
   "source": [
    "#| export\n",
    "@rt\n",
    "def index(): return Grid(*[A(Card(H3(k)),href=v) for k,v in links.items()])"
   ]
  },
  {
   "cell_type": "code",
   "execution_count": null,
   "id": "27e3ddfe",
   "metadata": {},
   "outputs": [],
   "source": [
    "#| export\n",
    "ar_social.to_app(app)\n",
    "ar_todo.to_app(app)"
   ]
  },
  {
   "cell_type": "code",
   "execution_count": null,
   "id": "c221ca91",
   "metadata": {},
   "outputs": [],
   "source": [
    "#| export\n",
    "redir_path = '/redirect'\n",
    "skip = ('/login', redir_path, r'/.*\\.(png|jpg|ico|css|js)', )\n",
    "\n",
    "class Auth(OAuth):\n",
    "    def get_auth(self, info, ident, session, state):\n",
    "        email = info.email or ''\n",
    "        session['user_name'] = email\n",
    "        if info.email_verified and email.split('@')[-1] == 'answer.ai': return RedirectResponse('/', status_code=303)\n",
    "        \n",
    "client = GoogleAppClient(os.environ.get('GOOGLE_CLIENT_ID'), os.environ.get('GOOGLE_SECRET'))\n",
    "oauth = Auth(app, client, skip=skip, redir_path=redir_path)\n",
    "\n",
    "@rt\n",
    "def login(req):\n",
    "    return Container(Card(\n",
    "        CardTitle(\"Login\"),\n",
    "        P(\"For internal use only\", cls=TextPresets.muted_sm),\n",
    "        A('Log in', href=oauth.login_link(req), cls='uk-button'+ButtonT.primary)))\n",
    "\n",
    "@rt\n",
    "def logout(sess):\n",
    "    del sess[\"user_name\"]\n",
    "    return oauth.logout(sess)"
   ]
  },
  {
   "cell_type": "code",
   "execution_count": null,
   "id": "2f38a125",
   "metadata": {},
   "outputs": [],
   "source": [
    "#| export\n",
    "serve(port=5005)"
   ]
  }
 ],
 "metadata": {
  "kernelspec": {
   "display_name": "python3",
   "language": "python",
   "name": "python3"
  }
 },
 "nbformat": 4,
 "nbformat_minor": 5
}
