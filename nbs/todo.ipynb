{
 "cells": [
  {
   "cell_type": "markdown",
   "metadata": {},
   "source": [
    "# Todo\n",
    "\n",
    "> Todo app"
   ]
  },
  {
   "cell_type": "code",
   "execution_count": null,
   "metadata": {},
   "outputs": [],
   "source": [
    "#| default_exp todo"
   ]
  },
  {
   "cell_type": "code",
   "execution_count": null,
   "metadata": {},
   "outputs": [],
   "source": [
    "#| export\n",
    "from fasthtml.common import *\n",
    "from functools import partial\n",
    "from fasthtml.jupyter import *\n",
    "from monsterui.all import *\n",
    "import ast, os\n",
    "from ghapi.all import GhApi\n",
    "from datetime import datetime, timedelta\n",
    "from web.utils import *\n",
    "api = GhApi(token=os.environ['GITHUB_TOKEN'])"
   ]
  },
  {
   "cell_type": "code",
   "execution_count": null,
   "metadata": {},
   "outputs": [],
   "source": [
    "#| export\n",
    "ar = APIRouter(prefix='/todo', body_wrap=layout)"
   ]
  },
  {
   "cell_type": "code",
   "execution_count": null,
   "metadata": {},
   "outputs": [],
   "source": [
    "#| export\n",
    "def populate_todos(n_days=30):\n",
    "    me = api.users.get_authenticated()\n",
    "    username = me.login\n",
    "    \n",
    "    time_range = (datetime.now() - timedelta(days=n_days)).strftime('%Y-%m-%d')\n",
    "    watched_repos = [o.full_name for o in api.activity.list_repos_watched_by_user(username)]\n",
    "    watched_issues = api.search.issues_and_pull_requests(q=f'repo:{\" repo:\".join(watched_repos)} state:open updated:>={time_range}')\n",
    "    involved_issues = api.search.issues_and_pull_requests(q=f'involves:{username} state:open updated:>={time_range}')\n",
    "    \n",
    "    for search_result in (watched_issues, involved_issues):\n",
    "        for item in search_result['items']:\n",
    "            issue = Todo(\n",
    "                        id=item['id'], \n",
    "                        title=item['title'],\n",
    "                        updated_at=item['updated_at'],\n",
    "                        labels=','.join(label['name'] for label in item['labels']),\n",
    "                        repo_url=item['repository_url'],\n",
    "                        html_url=item['html_url'],\n",
    "                        repo_owner=item['repository_url'].split('/')[-2],\n",
    "                        repo_name=item['repository_url'].split('/')[-1],\n",
    "                        number=item['number'])\n",
    "            if item['id'] in db.todos: db.todos.update(issue)\n",
    "            else: db.todos.insert(issue)"
   ]
  },
  {
   "cell_type": "code",
   "execution_count": null,
   "metadata": {},
   "outputs": [],
   "source": [
    "#| export\n",
    "def TodoCard(issue:Todo):  \n",
    "    return Card(\n",
    "        A(issue.title, href=issue.html_url, cls=AT.primary, target='_blank'),\n",
    "        DivFullySpaced(\n",
    "            A(Subtitle(f\"{issue.repo_owner}/{issue.repo_name}\"), href=issue.repo_url, cls=AT.muted, target='_blank'),\n",
    "            Time(issue.updated_at, cls=TextT.sm)),\n",
    "        DivLAligned(*map(Label, [o for o in issue.labels.split(',') if o != ''])),\n",
    "    footer=Grid(*[Button(s, hx_post=update_status.to(id=issue.id, new_status=s), hx_target='body') for s in status_opts], cols_max=3))"
   ]
  },
  {
   "cell_type": "code",
   "execution_count": null,
   "metadata": {},
   "outputs": [],
   "source": [
    "#| export\n",
    "@ar    \n",
    "def update_status(id:str, new_status:str): \n",
    "    db.todos.upsert(Todo(id=id, status=new_status))\n",
    "    return index()"
   ]
  },
  {
   "cell_type": "code",
   "execution_count": null,
   "metadata": {},
   "outputs": [],
   "source": [
    "if IN_NOTEBOOK: \n",
    "    db = database('../productivity_app.db')\n",
    "    db.todos = db.create(Todo) "
   ]
  },
  {
   "cell_type": "code",
   "execution_count": null,
   "metadata": {},
   "outputs": [],
   "source": [
    "#| export\n",
    "@ar\n",
    "def index(request=None):\n",
    "    if request and 'hx-request' not in request.headers:\n",
    "        last_update = db.execute('select max(updated_at) from todo').fetchone()[0]\n",
    "        if last_update:\n",
    "            last_update = datetime.strptime(last_update, '%Y-%m-%dT%H:%M:%SZ').date()\n",
    "            populate_todos((datetime.today().date() - last_update).days + 1)\n",
    "        else:\n",
    "            populate_todos(30)\n",
    "    \n",
    "    cutoff = (datetime.now() - timedelta(days=180)).strftime('%Y-%m-%dT%H:%M:%SZ')\n",
    "    base_query = f'updated_at>=?'\n",
    "\n",
    "    def _todos(s): return db.todos('updated_at>=? and status=?', [cutoff, s])\n",
    "    unassigned = db.todos(f'updated_at>=? AND status IS NULL', [cutoff])\n",
    "    \n",
    "    return Container(\n",
    "        Section(H2(\"Unassigned\"), Grid(*map(TodoCard, unassigned), cols_max=3)) if unassigned else None,\n",
    "        Section(\n",
    "            Grid(\n",
    "                Div(H2(\"Todo\"),        *map(TodoCard, _todos('Todo')),        cls='space-y-3'), \n",
    "                Div(H2(\"In Progress\"), *map(TodoCard, _todos('In Progress')), cls='space-y-3'), \n",
    "                Div(H2(\"Done\"),        *map(TodoCard, _todos('Done')),        cls='space-y-3'))),\n",
    "        Section(Details(Summary(\"Someday\"), Grid(*map(TodoCard, _todos('Someday')), cols_max=3))),   \n",
    "        Section(Details(Summary(\"Other\"),   Grid(*map(TodoCard, _todos('Other')),   cols_max=3))),   \n",
    "        Section(Details(Summary(\"Archived\"),Grid(*map(TodoCard, _todos('Archived')),cols_max=3))))"
   ]
  },
  {
   "cell_type": "code",
   "execution_count": null,
   "metadata": {},
   "outputs": [],
   "source": [
    "#| hide\n",
    "import nbdev; nbdev.nbdev_export()"
   ]
  },
  {
   "cell_type": "code",
   "execution_count": null,
   "metadata": {},
   "outputs": [],
   "source": []
  }
 ],
 "metadata": {
  "kernelspec": {
   "display_name": "Python 3 (ipykernel)",
   "language": "python",
   "name": "python3"
  },
  "language_info": {
   "codemirror_mode": {
    "name": "ipython",
    "version": 3
   },
   "file_extension": ".py",
   "mimetype": "text/x-python",
   "name": "python",
   "nbconvert_exporter": "python",
   "pygments_lexer": "ipython3",
   "version": "3.12.8"
  }
 },
 "nbformat": 4,
 "nbformat_minor": 4
}
