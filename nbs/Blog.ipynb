{
 "cells": [
  {
   "cell_type": "markdown",
   "id": "6003f631",
   "metadata": {},
   "source": [
    "# Blog\n",
    "\n",
    "> My blog!"
   ]
  },
  {
   "cell_type": "code",
   "execution_count": 36,
   "id": "85c2a697",
   "metadata": {},
   "outputs": [],
   "source": [
    "#| default_exp blog"
   ]
  },
  {
   "cell_type": "code",
   "execution_count": 48,
   "id": "7c842a66",
   "metadata": {},
   "outputs": [],
   "source": [
    "#| export\n",
    "from fasthtml.common import *\n",
    "from monsterui.all import *\n",
    "from utils import *\n",
    "from pathlib import Path\n",
    "import glob, yaml\n",
    "from fastcore.ansi import ansi2html\n",
    "from html import escape\n",
    "from execnb.nbio import read_nb\n",
    "from execnb.shell import render_outputs\n",
    "from nbdev.process import extract_directives"
   ]
  },
  {
   "cell_type": "code",
   "execution_count": 49,
   "id": "9ed18755",
   "metadata": {},
   "outputs": [],
   "source": [
    "#| export\n",
    "ar = APIRouter(prefix=\"/blog\", body_wrap=layout)"
   ]
  },
  {
   "cell_type": "code",
   "execution_count": 50,
   "id": "d0e73425",
   "metadata": {},
   "outputs": [],
   "source": [
    "#| export\n",
    "path = Path()\n",
    "if IN_NOTEBOOK: path = Path('../')"
   ]
  },
  {
   "cell_type": "code",
   "execution_count": 51,
   "id": "e16b4385",
   "metadata": {},
   "outputs": [],
   "source": [
    "#| export\n",
    "def get_notebooks():\n",
    "    notebooks = []\n",
    "    for nb in (path/'posts').rglob('*.ipynb'):\n",
    "        if not nb.name.startswith('_') and '.ipynb_checkpoints' not in str(nb):\n",
    "            notebooks.append(str(nb))\n",
    "    return notebooks"
   ]
  },
  {
   "cell_type": "code",
   "execution_count": 52,
   "id": "aff06ca9",
   "metadata": {},
   "outputs": [],
   "source": [
    "#| export\n",
    "def get_meta(nb): return yaml.safe_load(nb.cells[0].source.split('---')[1])"
   ]
  },
  {
   "cell_type": "code",
   "execution_count": 53,
   "id": "63747597",
   "metadata": {},
   "outputs": [],
   "source": [
    "#| export\n",
    "def get_nb_lang(nb): \n",
    "    try: return nb['metadata']['kernelspec']['language']\n",
    "    except Exception as e: return 'python'"
   ]
  },
  {
   "cell_type": "code",
   "execution_count": 54,
   "id": "060c4ad0",
   "metadata": {},
   "outputs": [],
   "source": [
    "from IPython.utils.text import strip_ansi\n",
    "from html import escape\n",
    "def _pre(s, xtra=''): return f\"<pre {xtra}><code>{escape(s)}</code></pre>\"\n",
    "def _strip(s): return strip_ansi(escape(s))"
   ]
  },
  {
   "cell_type": "code",
   "execution_count": 55,
   "id": "53b697cd",
   "metadata": {},
   "outputs": [],
   "source": [
    "#| export\n",
    "def render_code_output(cell, directives, lang='python', pygments=False, wrapper=Footer):\n",
    "    if not cell.outputs: return ''\n",
    "    if 'include:' in directives and directives['include:'][0] =='false': return ''\n",
    "\n",
    "    def render_output(out):\n",
    "        otype = out['output_type']\n",
    "        if otype == 'stream':\n",
    "            txt = ansi2html(''.join(out[\"text\"]))\n",
    "            xtra = '' if out['name']=='stdout' else \"class='stderr'\"\n",
    "            is_err = '<span class' in txt\n",
    "            return Safe(f\"<pre {xtra}><code class='{'nohighlight hljs' if is_err else ''}'>{txt}</code></pre>\")\n",
    "        elif otype in ('display_data','execute_result'):\n",
    "            data = out['data']\n",
    "            _g = lambda t: ''.join(data[t]) if t in data else None\n",
    "            if d := _g('text/html'): return Safe(apply_classes(d))\n",
    "            if d := _g('application/javascript'): return Safe(f'<script>{d}</script>')\n",
    "            if d := _g('text/markdown'): return render_md(d)\n",
    "            if d := _g('text/latex'): return Safe(f'<div class=\"math\">${d}$</div>')\n",
    "            if d := _g('image/jpeg'): return Safe(f'<img src=\"data:image/jpeg;base64,{d}\"/>')\n",
    "            if d := _g('image/png'): return Safe(f'<img src=\"data:image/png;base64,{d}\"/>')\n",
    "            if d := _g('text/plain'): return escape(d)\n",
    "            if d := _g('image/svg+xml'): return Safe(d)\n",
    "        return ''\n",
    "    \n",
    "    res = Div(*map(render_output, cell.outputs))\n",
    "    if res: return wrapper(res)"
   ]
  },
  {
   "cell_type": "code",
   "execution_count": 81,
   "id": "2438abc2",
   "metadata": {},
   "outputs": [],
   "source": [
    "#| export\n",
    "def render_code_input(cell, directives, lang='python'):\n",
    "    code = f'''```{lang}\\n{cell.source}\\n```\\n'''\n",
    "    if 'include:'   in directives and directives['include:'][0]   =='false': return ''\n",
    "    if 'echo:'      in directives and directives['echo:'][0]      =='false': return ''\n",
    "    if 'code-fold:' in directives and directives['code-fold:'][0] == 'true':\n",
    "        return Details(Summary(\"See Code\"),render_md(code))\n",
    "    return render_md(code)"
   ]
  },
  {
   "cell_type": "code",
   "execution_count": null,
   "id": "a9570c2b",
   "metadata": {},
   "outputs": [],
   "source": [
    "#| export\n",
    "def remove_directives(cell):\n",
    "    \"Remove #| directives from start of cell\"\n",
    "    lines = cell.source.split('\\n')\n",
    "    while lines and lines[0].startswith('#|'): lines.pop(0)\n",
    "    cell.source = '\\n'.join(lines)"
   ]
  },
  {
   "cell_type": "code",
   "execution_count": 85,
   "id": "48135e94",
   "metadata": {},
   "outputs": [],
   "source": [
    "#| export\n",
    "def render_nb(nb):\n",
    "    \"Render a notebook as a list of html elements\"\n",
    "    res = []\n",
    "    lang = get_nb_lang(nb)\n",
    "    meta = get_meta(nb)\n",
    "    res.append(Div(H1(meta['title']), Subtitle(meta['description']), cls='my-9'))\n",
    "    for cell in nb.cells[1:]:  \n",
    "        if cell['cell_type']=='code':\n",
    "            directives = extract_directives(cell)\n",
    "            remove_directives(cell)\n",
    "            _output = render_code_output(cell, directives)\n",
    "            res.append(render_code_input(cell, directives))\n",
    "            res.append(Card(_output) if _output else '')\n",
    "        elif cell['cell_type']=='markdown':\n",
    "            res.append(render_md(cell.source))\n",
    "    return res"
   ]
  },
  {
   "cell_type": "code",
   "execution_count": 69,
   "id": "8463c756",
   "metadata": {},
   "outputs": [],
   "source": [
    "nb = read_nb('../app/posts/MeanShiftFromScratch.ipynb')"
   ]
  },
  {
   "cell_type": "code",
   "execution_count": 70,
   "id": "9d11e04e",
   "metadata": {},
   "outputs": [
    {
     "data": {
      "text/markdown": [
       "```json\n",
       "{ 'cell_type': 'code',\n",
       "  'execution_count': 3,\n",
       "  'id': '35e9e944-64a9-4afc-a267-448aa9350b02',\n",
       "  'idx_': 3,\n",
       "  'metadata': {},\n",
       "  'outputs': [],\n",
       "  'source': '#| code-fold: true\\n'\n",
       "            'import math, random, matplotlib.pyplot as plt, operator, torch\\n'\n",
       "            'from functools import partial\\n'\n",
       "            'from fastcore.all import *\\n'\n",
       "            'from torch.distributions.multivariate_normal import '\n",
       "            'MultivariateNormal\\n'\n",
       "            'from torch import tensor\\n'\n",
       "            'import numpy as np'}\n",
       "```"
      ],
      "text/plain": [
       "{'cell_type': 'code',\n",
       " 'execution_count': 3,\n",
       " 'id': '35e9e944-64a9-4afc-a267-448aa9350b02',\n",
       " 'metadata': {},\n",
       " 'outputs': [],\n",
       " 'source': '#| code-fold: true\\nimport math, random, matplotlib.pyplot as plt, operator, torch\\nfrom functools import partial\\nfrom fastcore.all import *\\nfrom torch.distributions.multivariate_normal import MultivariateNormal\\nfrom torch import tensor\\nimport numpy as np',\n",
       " 'idx_': 3}"
      ]
     },
     "execution_count": 70,
     "metadata": {},
     "output_type": "execute_result"
    }
   ],
   "source": [
    "_cell = nb.cells[3]\n",
    "_cell"
   ]
  },
  {
   "cell_type": "code",
   "execution_count": null,
   "id": "8df90a0d",
   "metadata": {},
   "outputs": [],
   "source": [
    "#| export\n",
    "@ar\n",
    "def index(): \n",
    "    metas = []\n",
    "    for fpath in get_notebooks():\n",
    "        _meta = get_meta(read_nb(fpath))\n",
    "        _meta['fpath'] = fpath\n",
    "        metas.append(_meta)\n",
    "    metas.sort(key=lambda x: x['date'], reverse=True)\n",
    "    return Div(\n",
    "        Div(H1(\"My Blog\", cls=\"mb-2\"),\n",
    "            Subtitle(\"Thoughts, tutorials and technical writings\", cls=TextT.gray+TextT.lg),\n",
    "            cls=\"text-center py-8\"),\n",
    "        Div(Grid(*map(blog_card, metas), cols=1),\n",
    "            cls=\"max-w-4xl mx-auto px-4\"))"
   ]
  },
  {
   "cell_type": "code",
   "execution_count": null,
   "id": "75c5e13e",
   "metadata": {},
   "outputs": [],
   "source": [
    "#| export\n",
    "@ar\n",
    "def blog_post(fpath:str): return render_nb(read_nb(fpath))"
   ]
  },
  {
   "cell_type": "code",
   "execution_count": null,
   "id": "e7127c4a",
   "metadata": {},
   "outputs": [],
   "source": [
    "#| export\n",
    "def blog_card(meta):\n",
    "    def Tags(cats): return DivLAligned(map(Label, cats))\n",
    "    \n",
    "    return Card(\n",
    "        DivLAligned(\n",
    "            A(Img(src=meta.get('image',''), style=\"width:200px\"), href=blog_post.to(fpath=meta['fpath'])),\n",
    "            Div(cls='space-y-3 w-full')(\n",
    "                H4(meta['title']),\n",
    "                P(meta['description']),\n",
    "                DivFullySpaced(map(Small, [meta['author'], meta['date']]), cls=TextT.meta),\n",
    "                DivFullySpaced(\n",
    "                    Tags(meta['categories']),\n",
    "                    A(\"Read\", cls=('uk-btn', ButtonT.primary,'h-6'), href=blog_post.to(fpath=meta['fpath']))))),\n",
    "        cls=CardT.hover)"
   ]
  }
 ],
 "metadata": {
  "kernelspec": {
   "display_name": "Python 3 (ipykernel)",
   "language": "python",
   "name": "python3"
  },
  "language_info": {
   "codemirror_mode": {
    "name": "ipython",
    "version": 3
   },
   "file_extension": ".py",
   "mimetype": "text/x-python",
   "name": "python",
   "nbconvert_exporter": "python",
   "pygments_lexer": "ipython3",
   "version": "3.12.8"
  }
 },
 "nbformat": 4,
 "nbformat_minor": 5
}
