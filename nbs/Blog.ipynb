{
 "cells": [
  {
   "cell_type": "markdown",
   "id": "6003f631",
   "metadata": {},
   "source": [
    "# Blog\n",
    "\n",
    "> My blog!"
   ]
  },
  {
   "cell_type": "code",
   "execution_count": 1,
   "id": "85c2a697",
   "metadata": {},
   "outputs": [],
   "source": [
    "#| default_exp blog"
   ]
  },
  {
   "cell_type": "code",
   "execution_count": 3,
   "id": "7c842a66",
   "metadata": {},
   "outputs": [],
   "source": [
    "#| export\n",
    "from fasthtml.common import *\n",
    "from monsterui.all import *\n",
    "from productivity_app.utils import *\n",
    "from pathlib import Path\n",
    "import glob\n",
    "from fastcore.ansi import ansi2html\n",
    "\n",
    "import yaml\n",
    "from execnb.nbio import read_nb\n",
    "from execnb.shell import render_outputs"
   ]
  },
  {
   "cell_type": "code",
   "execution_count": 4,
   "id": "9ed18755",
   "metadata": {},
   "outputs": [],
   "source": [
    "#| export\n",
    "ar = APIRouter(prefix=\"/blog\", body_wrap=layout)"
   ]
  },
  {
   "cell_type": "code",
   "execution_count": 12,
   "id": "d0e73425",
   "metadata": {},
   "outputs": [],
   "source": [
    "#| export\n",
    "path = Path()\n",
    "if IN_NOTEBOOK: path = Path('../')"
   ]
  },
  {
   "cell_type": "code",
   "execution_count": 119,
   "id": "e16b4385",
   "metadata": {},
   "outputs": [],
   "source": [
    "#| export\n",
    "def get_notebooks():\n",
    "    notebooks = []\n",
    "    for nb in (path/'posts').rglob('*.ipynb'):\n",
    "        if not nb.name.startswith('_') and '.ipynb_checkpoints' not in str(nb):\n",
    "            notebooks.append(str(nb))\n",
    "    return notebooks"
   ]
  },
  {
   "cell_type": "code",
   "execution_count": 142,
   "id": "aff06ca9",
   "metadata": {},
   "outputs": [],
   "source": [
    "#| export\n",
    "def get_meta(nb): return yaml.safe_load(nb.cells[0].source.split('---')[1])"
   ]
  },
  {
   "cell_type": "code",
   "execution_count": 121,
   "id": "63747597",
   "metadata": {},
   "outputs": [],
   "source": [
    "#| export\n",
    "def get_nb_lang(nb): return nb['metadata']['kernelspec']['language']"
   ]
  },
  {
   "cell_type": "code",
   "execution_count": 122,
   "id": "060c4ad0",
   "metadata": {},
   "outputs": [],
   "source": [
    "#| export\n",
    "from IPython.utils.text import strip_ansi\n",
    "from html import escape\n",
    "def _pre(s, xtra=''): return f\"<pre {xtra}><code>{escape(s)}</code></pre>\"\n",
    "def _strip(s): return strip_ansi(escape(s))"
   ]
  },
  {
   "cell_type": "code",
   "execution_count": 123,
   "id": "53b697cd",
   "metadata": {},
   "outputs": [],
   "source": [
    "#| export\n",
    "def render_code_output(cell, lang='python', pygments=False, wrapper=Footer):\n",
    "    if not cell.outputs: return ''\n",
    "    \n",
    "    def render_output(out):\n",
    "        otype = out['output_type']\n",
    "        if otype == 'stream':\n",
    "            txt = ansi2html(''.join(out[\"text\"]))\n",
    "            xtra = '' if out['name']=='stdout' else \"class='stderr'\"\n",
    "            is_err = '<span class' in txt\n",
    "            return Safe(f\"<pre {xtra}><code class='{'nohighlight hljs' if is_err else ''}'>{txt}</code></pre>\")\n",
    "        elif otype in ('display_data','execute_result'):\n",
    "            data = out['data']\n",
    "            _g = lambda t: ''.join(data[t]) if t in data else None\n",
    "            if d := _g('text/html'): return Safe(apply_classes(d))\n",
    "            if d := _g('application/javascript'): return Safe(f'<script>{d}</script>')\n",
    "            if d := _g('text/markdown'): return render_md(d)\n",
    "            if d := _g('text/latex'): return Safe(f'<div class=\"math\">${d}$</div>')\n",
    "            if d := _g('image/jpeg'): return Safe(f'<img src=\"data:image/jpeg;base64,{d}\"/>')\n",
    "            if d := _g('image/png'): return Safe(f'<img src=\"data:image/png;base64,{d}\"/>')\n",
    "            if d := _g('text/plain'): return escape(d)\n",
    "            if d := _g('image/svg+xml'): return Safe(d)\n",
    "        return ''\n",
    "    \n",
    "    res = Div(*map(render_output, cell.outputs))\n",
    "    if res: return wrapper(res)"
   ]
  },
  {
   "cell_type": "code",
   "execution_count": 124,
   "id": "48135e94",
   "metadata": {},
   "outputs": [],
   "source": [
    "#| export\n",
    "def render_nb(nb):\n",
    "    \"Render a notebook as a list of html elements\"\n",
    "    res = []\n",
    "    lang = get_nb_lang(nb)\n",
    "    for cell in nb.cells[1:]:  # Skip first cell which contains metadata\n",
    "        if cell['cell_type']=='code':\n",
    "            _output = render_code_output(cell)\n",
    "            res.append(render_md(f'''\\n```{lang}\\n{cell.source}\\n```\\n'''))\n",
    "            res.append(Card(_output) if _output else '')\n",
    "        elif cell['cell_type']=='markdown':\n",
    "            res.append(render_md(cell.source))\n",
    "    return res"
   ]
  },
  {
   "cell_type": "code",
   "execution_count": 171,
   "id": "8463c756",
   "metadata": {},
   "outputs": [],
   "source": [
    "nb = read_nb('../posts/BasicTesting.ipynb')"
   ]
  },
  {
   "cell_type": "code",
   "execution_count": 184,
   "id": "27e8d19d",
   "metadata": {},
   "outputs": [
    {
     "data": {
      "text/markdown": [
       "```json\n",
       "{ 'text/html': [ '<div>\\n',\n",
       "                 '<style scoped>\\n',\n",
       "                 '    .dataframe tbody tr th:only-of-type {\\n',\n",
       "                 '        vertical-align: middle;\\n',\n",
       "                 '    }\\n',\n",
       "                 '\\n',\n",
       "                 '    .dataframe tbody tr th {\\n',\n",
       "                 '        vertical-align: top;\\n',\n",
       "                 '    }\\n',\n",
       "                 '\\n',\n",
       "                 '    .dataframe thead th {\\n',\n",
       "                 '        text-align: right;\\n',\n",
       "                 '    }\\n',\n",
       "                 '</style>\\n',\n",
       "                 '<table border=\"1\" class=\"dataframe\">\\n',\n",
       "                 '  <thead>\\n',\n",
       "                 '    <tr style=\"text-align: right;\">\\n',\n",
       "                 '      <th></th>\\n',\n",
       "                 '      <th>open_date</th>\\n',\n",
       "                 '      <th>ticker</th>\\n',\n",
       "                 '      <th>action</th>\\n',\n",
       "                 '    </tr>\\n',\n",
       "                 '  </thead>\\n',\n",
       "                 '  <tbody>\\n',\n",
       "                 '    <tr>\\n',\n",
       "                 '      <th>0</th>\\n',\n",
       "                 '      <td>2017-02-14</td>\\n',\n",
       "                 '      <td>A</td>\\n',\n",
       "                 '      <td>Buy</td>\\n',\n",
       "                 '    </tr>\\n',\n",
       "                 '    <tr>\\n',\n",
       "                 '      <th>2</th>\\n',\n",
       "                 '      <td>2017-02-16</td>\\n',\n",
       "                 '      <td>A</td>\\n',\n",
       "                 '      <td>Buy</td>\\n',\n",
       "                 '    </tr>\\n',\n",
       "                 '    <tr>\\n',\n",
       "                 '      <th>11</th>\\n',\n",
       "                 '      <td>2017-03-02</td>\\n',\n",
       "                 '      <td>A</td>\\n',\n",
       "                 '      <td>Buy</td>\\n',\n",
       "                 '    </tr>\\n',\n",
       "                 '    <tr>\\n',\n",
       "                 '      <th>13</th>\\n',\n",
       "                 '      <td>2017-03-04</td>\\n',\n",
       "                 '      <td>A</td>\\n',\n",
       "                 '      <td>Buy</td>\\n',\n",
       "                 '    </tr>\\n',\n",
       "                 '    <tr>\\n',\n",
       "                 '      <th>14</th>\\n',\n",
       "                 '      <td>2017-03-07</td>\\n',\n",
       "                 '      <td>A</td>\\n',\n",
       "                 '      <td>Buy</td>\\n',\n",
       "                 '    </tr>\\n',\n",
       "                 '  </tbody>\\n',\n",
       "                 '</table>\\n',\n",
       "                 '</div>'],\n",
       "  'text/plain': [ '    open_date ticker action\\n',\n",
       "                  '0  2017-02-14      A    Buy\\n',\n",
       "                  '2  2017-02-16      A    Buy\\n',\n",
       "                  '11 2017-03-02      A    Buy\\n',\n",
       "                  '13 2017-03-04      A    Buy\\n',\n",
       "                  '14 2017-03-07      A    Buy']}\n",
       "```"
      ],
      "text/plain": [
       "{'text/html': ['<div>\\n',\n",
       "  '<style scoped>\\n',\n",
       "  '    .dataframe tbody tr th:only-of-type {\\n',\n",
       "  '        vertical-align: middle;\\n',\n",
       "  '    }\\n',\n",
       "  '\\n',\n",
       "  '    .dataframe tbody tr th {\\n',\n",
       "  '        vertical-align: top;\\n',\n",
       "  '    }\\n',\n",
       "  '\\n',\n",
       "  '    .dataframe thead th {\\n',\n",
       "  '        text-align: right;\\n',\n",
       "  '    }\\n',\n",
       "  '</style>\\n',\n",
       "  '<table border=\"1\" class=\"dataframe\">\\n',\n",
       "  '  <thead>\\n',\n",
       "  '    <tr style=\"text-align: right;\">\\n',\n",
       "  '      <th></th>\\n',\n",
       "  '      <th>open_date</th>\\n',\n",
       "  '      <th>ticker</th>\\n',\n",
       "  '      <th>action</th>\\n',\n",
       "  '    </tr>\\n',\n",
       "  '  </thead>\\n',\n",
       "  '  <tbody>\\n',\n",
       "  '    <tr>\\n',\n",
       "  '      <th>0</th>\\n',\n",
       "  '      <td>2017-02-14</td>\\n',\n",
       "  '      <td>A</td>\\n',\n",
       "  '      <td>Buy</td>\\n',\n",
       "  '    </tr>\\n',\n",
       "  '    <tr>\\n',\n",
       "  '      <th>2</th>\\n',\n",
       "  '      <td>2017-02-16</td>\\n',\n",
       "  '      <td>A</td>\\n',\n",
       "  '      <td>Buy</td>\\n',\n",
       "  '    </tr>\\n',\n",
       "  '    <tr>\\n',\n",
       "  '      <th>11</th>\\n',\n",
       "  '      <td>2017-03-02</td>\\n',\n",
       "  '      <td>A</td>\\n',\n",
       "  '      <td>Buy</td>\\n',\n",
       "  '    </tr>\\n',\n",
       "  '    <tr>\\n',\n",
       "  '      <th>13</th>\\n',\n",
       "  '      <td>2017-03-04</td>\\n',\n",
       "  '      <td>A</td>\\n',\n",
       "  '      <td>Buy</td>\\n',\n",
       "  '    </tr>\\n',\n",
       "  '    <tr>\\n',\n",
       "  '      <th>14</th>\\n',\n",
       "  '      <td>2017-03-07</td>\\n',\n",
       "  '      <td>A</td>\\n',\n",
       "  '      <td>Buy</td>\\n',\n",
       "  '    </tr>\\n',\n",
       "  '  </tbody>\\n',\n",
       "  '</table>\\n',\n",
       "  '</div>'],\n",
       " 'text/plain': ['    open_date ticker action\\n',\n",
       "  '0  2017-02-14      A    Buy\\n',\n",
       "  '2  2017-02-16      A    Buy\\n',\n",
       "  '11 2017-03-02      A    Buy\\n',\n",
       "  '13 2017-03-04      A    Buy\\n',\n",
       "  '14 2017-03-07      A    Buy']}"
      ]
     },
     "execution_count": 184,
     "metadata": {},
     "output_type": "execute_result"
    }
   ],
   "source": [
    "nb.cells[26].outputs[0].data"
   ]
  },
  {
   "cell_type": "code",
   "execution_count": 147,
   "id": "8df90a0d",
   "metadata": {},
   "outputs": [],
   "source": [
    "#| export\n",
    "@ar\n",
    "def index(): \n",
    "    metas = []\n",
    "    for fpath in get_notebooks():\n",
    "        _meta = get_meta(read_nb(fpath))\n",
    "        _meta['fpath'] = fpath\n",
    "        metas.append(_meta)\n",
    "    metas.sort(key=lambda x: x['date'], reverse=True)\n",
    "    return Div(\n",
    "        Div(H1(\"My Blog\", cls=\"mb-2\"),\n",
    "            Subtitle(\"Thoughts, tutorials and technical writings\", cls=TextT.gray+TextT.lg),\n",
    "            cls=\"text-center py-8\"),\n",
    "        Div(Grid(*map(blog_card, metas), cols=1),\n",
    "            cls=\"max-w-4xl mx-auto px-4\"))"
   ]
  },
  {
   "cell_type": "code",
   "execution_count": null,
   "id": "75c5e13e",
   "metadata": {},
   "outputs": [],
   "source": [
    "#| export\n",
    "@ar\n",
    "def blog_post(fpath:str): return render_nb(read_nb(fpath))"
   ]
  },
  {
   "cell_type": "code",
   "execution_count": 107,
   "id": "e7127c4a",
   "metadata": {},
   "outputs": [],
   "source": [
    "#| export\n",
    "def blog_card(meta):\n",
    "    def Tags(cats): return DivLAligned(map(Label, cats))\n",
    "    \n",
    "    return Card(\n",
    "        DivLAligned(\n",
    "            A(Img(src=meta.get('image',''), style=\"width:200px\"), href=blog_post.to(fpath=meta['fpath'])),\n",
    "            Div(cls='space-y-3 uk-width-expand')(\n",
    "                H4(meta['title']),\n",
    "                P(meta['description']),\n",
    "                DivFullySpaced(map(Small, [meta['author'], meta['date']]), cls=TextT.muted),\n",
    "                DivFullySpaced(\n",
    "                    Tags(meta['categories']),\n",
    "                    A(\"Read\", cls=('uk-button', ButtonT.primary,'h-6'), href=blog_post.to(fpath=meta['fpath']))))),\n",
    "        cls=CardT.hover)"
   ]
  }
 ],
 "metadata": {
  "kernelspec": {
   "display_name": "Python 3 (ipykernel)",
   "language": "python",
   "name": "python3"
  },
  "language_info": {
   "codemirror_mode": {
    "name": "ipython",
    "version": 3
   },
   "file_extension": ".py",
   "mimetype": "text/x-python",
   "name": "python",
   "nbconvert_exporter": "python",
   "pygments_lexer": "ipython3",
   "version": "3.12.8"
  }
 },
 "nbformat": 4,
 "nbformat_minor": 5
}
