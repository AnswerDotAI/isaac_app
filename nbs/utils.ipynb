{
 "cells": [
  {
   "cell_type": "markdown",
   "id": "81527a3a",
   "metadata": {},
   "source": [
    "# Utils\n",
    "\n",
    "> Utility stuff like database connection and layout"
   ]
  },
  {
   "cell_type": "code",
   "execution_count": 2,
   "id": "c43da666",
   "metadata": {},
   "outputs": [],
   "source": [
    "#| default_exp utils"
   ]
  },
  {
   "cell_type": "code",
   "execution_count": 3,
   "id": "6b9c0ab7",
   "metadata": {},
   "outputs": [],
   "source": [
    "#| export\n",
    "from fasthtml.common import *\n",
    "from monsterui.all import *"
   ]
  },
  {
   "cell_type": "code",
   "execution_count": 4,
   "id": "241d5280",
   "metadata": {},
   "outputs": [],
   "source": [
    "#| export\n",
    "db = Database('productivity_app.db')"
   ]
  },
  {
   "cell_type": "markdown",
   "id": "da74f67d",
   "metadata": {},
   "source": [
    "## Layout"
   ]
  },
  {
   "cell_type": "code",
   "execution_count": null,
   "id": "cf93f527",
   "metadata": {},
   "outputs": [],
   "source": [
    "#| export\n",
    "links = {'Home':'/', 'Social': '/social_media', 'Todo': '/todo'}             \n",
    "    \n",
    "def layout(content, req):\n",
    "    return Container(\n",
    "        NavBar(links, UkIcon(\"rocket\")),\n",
    "        content)"
   ]
  },
  {
   "cell_type": "markdown",
   "id": "f99123b2",
   "metadata": {},
   "source": [
    "## Social Media tables"
   ]
  },
  {
   "cell_type": "code",
   "execution_count": 5,
   "id": "8e5a3632",
   "metadata": {},
   "outputs": [],
   "source": [
    "#| export\n",
    "@dataclass\n",
    "class Post:\n",
    "    id: str # Post Id (pid) is PK\n",
    "    tid: int # Thread ID (tid)\n",
    "    position: int # position in thread\n",
    "    content: str # text content\n",
    "    img_path: str = None # fpath to image is used\n",
    "    username: str = \"User\" # For UI - no functional purpose\n",
    "    handle: str = \"@user\" # For UI - no functional purpose\n",
    "    created_at: str = \"Just now\" # For UI - no functional purpose\n",
    "    modified_at: str = None # TODO: add mofified timestampe\n",
    "        "
   ]
  },
  {
   "cell_type": "code",
   "execution_count": 6,
   "id": "d05c4b41",
   "metadata": {},
   "outputs": [],
   "source": [
    "#| export\n",
    "@dataclass\n",
    "class Thread:\n",
    "    id: str # tid\n",
    "    name: str # human readable name\n",
    "    user: str # user this is for, used for filtering down what is shown in UI\n",
    "    created_on: str=None # TODO: Add created date for UI selection/sorting"
   ]
  },
  {
   "cell_type": "code",
   "execution_count": 7,
   "id": "2bdc4049",
   "metadata": {},
   "outputs": [],
   "source": [
    "#| export\n",
    "post_tbl = db.create(Post, 'posts')\n",
    "thread_tbl = db.create(Thread, 'threads')"
   ]
  },
  {
   "cell_type": "markdown",
   "id": "834050d3",
   "metadata": {},
   "source": [
    "## Todo"
   ]
  },
  {
   "cell_type": "code",
   "execution_count": null,
   "id": "48757c98",
   "metadata": {},
   "outputs": [],
   "source": [
    "#| export\n",
    "status_opts = (\"Todo\", \"In Progress\", \"Done\", \"Archived\", \"Someday\", \"Other\")"
   ]
  },
  {
   "cell_type": "code",
   "execution_count": 8,
   "id": "a3668dac",
   "metadata": {},
   "outputs": [],
   "source": [
    "#| export\n",
    "class Todo:\n",
    "    title: str; id: int; updated_at: str; labels: str; repo_url: str; \n",
    "    html_url: str; repo_owner: str; repo_name: str; number: int;\n",
    "    status: str "
   ]
  },
  {
   "cell_type": "code",
   "execution_count": 9,
   "id": "d90b481d",
   "metadata": {},
   "outputs": [],
   "source": [
    "#| export\n",
    "db.todos = db.create(Todo) "
   ]
  },
  {
   "cell_type": "code",
   "execution_count": null,
   "id": "44419b24",
   "metadata": {},
   "outputs": [],
   "source": []
  }
 ],
 "metadata": {
  "kernelspec": {
   "display_name": "Python 3 (ipykernel)",
   "language": "python",
   "name": "python3"
  },
  "language_info": {
   "codemirror_mode": {
    "name": "ipython",
    "version": 3
   },
   "file_extension": ".py",
   "mimetype": "text/x-python",
   "name": "python",
   "nbconvert_exporter": "python",
   "pygments_lexer": "ipython3",
   "version": "3.12.8"
  }
 },
 "nbformat": 4,
 "nbformat_minor": 5
}
